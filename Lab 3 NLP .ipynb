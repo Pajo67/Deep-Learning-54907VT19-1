{
  "nbformat": 4,
  "nbformat_minor": 0,
  "metadata": {
    "kernelspec": {
      "name": "python3",
      "display_name": "Python 3"
    },
    "language_info": {
      "codemirror_mode": {
        "name": "ipython",
        "version": 3
      },
      "file_extension": ".py",
      "mimetype": "text/x-python",
      "name": "python",
      "nbconvert_exporter": "python",
      "pygments_lexer": "ipython3",
      "version": "3.5.2"
    },
    "colab": {
      "name": "Inlämningsuppgift baserad på 6.2 i boken.ipynb",
      "version": "0.3.2",
      "provenance": [],
      "collapsed_sections": []
    }
  },
  "cells": [
    {
      "cell_type": "markdown",
      "metadata": {
        "id": "wBMQ0gPGgBCx",
        "colab_type": "text"
      },
      "source": [
        "**Laboration 3 baserad på uppgift 6.2 i boken \"Deep Learning with Python\" av Francois Chollet**\n",
        "\n",
        "Ett SimpleRNN (RNN) kan arbeta på två olika sätt (modes), antingen så returnerar det hela sekvensen av successiv utdata för varje tidpunkt dvs om argumentet \"\"return_sequences\" sätts till \"True\"  så returneras en 3D Tensor innehållande \"batch_size\", \"timesteps\" och \"output_features\". Sätts argumentet till \"False\" så redovisas enbart den sista utdatan för varje indatasekvens i form av en 2D Tensor innehållande \"batch_size\" och \"output_features\".  Antalet parametrar i den resulterande modellen förändras inte. \n",
        "\n",
        "I denna uppgift skapas ett RNN som är väldigt litet. Det presterar inte särskilt väl med 85% (\"maxlen\"=500) och 84% (\"maxlen\"=750) i \"validation accuracy\", jämfört med baslinjen på 88% \n",
        "i \"test accuracy\" när samma dataset använts i tidigare kapitel än 6.2 i Chollets bok.En del av problemet är att i denna uppgift så övevägs bara de första 500 orden vilka sedan ökas till 750 dvs. \"maxlen\", istället för hela sekvenser, vilket innebär att detta RNN har tillgång till mindre information än de tidigare ansatserna i boken.  Men det går också att konstatera att det SimpleRNN som används i denna uppgiften inte är särskilt bra på att hantera långa sekvenser som text. \n",
        "\n",
        "Jag kunde valt att använda funktioner vid förändring av \"maxlen\" i koden nedan men jag valde istället att ändra detta värde \"manuellt\". Tydligheten blir lidande men det behöver göras färre förändringar i den ursprungliga koden.  \n",
        "\n"
      ]
    },
    {
      "cell_type": "code",
      "metadata": {
        "id": "0YZSMvU4EtDJ",
        "colab_type": "code",
        "outputId": "2d72aa84-c5b2-4524-c981-67fd051f6e86",
        "colab": {
          "base_uri": "https://localhost:8080/",
          "height": 34
        }
      },
      "source": [
        "import keras\n",
        "keras.__version_\n",
        "\n",
        "from tensorflow.python import keras\n",
        "print(keras.__version__)"
      ],
      "execution_count": 0,
      "outputs": [
        {
          "output_type": "stream",
          "text": [
            "2.2.4-tf\n"
          ],
          "name": "stdout"
        }
      ]
    },
    {
      "cell_type": "code",
      "metadata": {
        "id": "t3SDsmqK1AqY",
        "colab_type": "code",
        "colab": {}
      },
      "source": [
        "from keras.layers import SimpleRNN"
      ],
      "execution_count": 0,
      "outputs": []
    },
    {
      "cell_type": "code",
      "metadata": {
        "id": "WUu--yCy1Aqg",
        "colab_type": "code",
        "outputId": "7c9f5524-d02b-44a1-8cfe-ed9b3df68334",
        "colab": {
          "base_uri": "https://localhost:8080/",
          "height": 343
        }
      },
      "source": [
        "# Argumentet \"return_sequences\" är här satt till \"True\", se ovan kommentar för utförliggare förklaring.\n",
        "\n",
        "from keras.models import Sequential\n",
        "from keras.layers import Embedding, SimpleRNN\n",
        "\n",
        "model = Sequential()\n",
        "model.add(Embedding(10000, 32))\n",
        "model.add(SimpleRNN(32))\n",
        "model.summary()"
      ],
      "execution_count": 0,
      "outputs": [
        {
          "output_type": "stream",
          "text": [
            "WARNING: Logging before flag parsing goes to stderr.\n",
            "W0805 20:28:06.163454 140246519814016 deprecation_wrapper.py:119] From /usr/local/lib/python3.6/dist-packages/keras/backend/tensorflow_backend.py:74: The name tf.get_default_graph is deprecated. Please use tf.compat.v1.get_default_graph instead.\n",
            "\n",
            "W0805 20:28:06.190489 140246519814016 deprecation_wrapper.py:119] From /usr/local/lib/python3.6/dist-packages/keras/backend/tensorflow_backend.py:517: The name tf.placeholder is deprecated. Please use tf.compat.v1.placeholder instead.\n",
            "\n",
            "W0805 20:28:06.195071 140246519814016 deprecation_wrapper.py:119] From /usr/local/lib/python3.6/dist-packages/keras/backend/tensorflow_backend.py:4138: The name tf.random_uniform is deprecated. Please use tf.random.uniform instead.\n",
            "\n"
          ],
          "name": "stderr"
        },
        {
          "output_type": "stream",
          "text": [
            "_________________________________________________________________\n",
            "Layer (type)                 Output Shape              Param #   \n",
            "=================================================================\n",
            "embedding_1 (Embedding)      (None, None, 32)          320000    \n",
            "_________________________________________________________________\n",
            "simple_rnn_1 (SimpleRNN)     (None, 32)                2080      \n",
            "=================================================================\n",
            "Total params: 322,080\n",
            "Trainable params: 322,080\n",
            "Non-trainable params: 0\n",
            "_________________________________________________________________\n"
          ],
          "name": "stdout"
        }
      ]
    },
    {
      "cell_type": "code",
      "metadata": {
        "id": "JhECPgv41Aql",
        "colab_type": "code",
        "outputId": "1b1b5d4b-2653-43a0-b164-197bec4b2d7f",
        "colab": {
          "base_uri": "https://localhost:8080/",
          "height": 204
        }
      },
      "source": [
        "# Argumentet \"return_sequences\" är här satt till \"False\", resultatet blir att utdata är en 3D Tensor. Se ovan kommentar för utförliggare förklaring.\n",
        "\n",
        "model = Sequential()\n",
        "model.add(Embedding(10000, 32))\n",
        "model.add(SimpleRNN(32, return_sequences=True)) \n",
        "model.summary()"
      ],
      "execution_count": 0,
      "outputs": [
        {
          "output_type": "stream",
          "text": [
            "_________________________________________________________________\n",
            "Layer (type)                 Output Shape              Param #   \n",
            "=================================================================\n",
            "embedding_2 (Embedding)      (None, None, 32)          320000    \n",
            "_________________________________________________________________\n",
            "simple_rnn_2 (SimpleRNN)     (None, None, 32)          2080      \n",
            "=================================================================\n",
            "Total params: 322,080\n",
            "Trainable params: 322,080\n",
            "Non-trainable params: 0\n",
            "_________________________________________________________________\n"
          ],
          "name": "stdout"
        }
      ]
    },
    {
      "cell_type": "code",
      "metadata": {
        "id": "vVUO8vlERBSE",
        "colab_type": "code",
        "outputId": "7ca9f61c-75cd-4851-d7b4-e56a837b7005",
        "colab": {
          "base_uri": "https://localhost:8080/",
          "height": 204
        }
      },
      "source": [
        "# Argumentet \"return_sequences\" är här satt till \"False\", resultatet blir att utdata är en 2D Tensor. Se ovan kommentar för utförliggare förklaring.\n",
        "\n",
        "model = Sequential()\n",
        "model.add(Embedding(10000, 32))\n",
        "model.add(SimpleRNN(32, return_sequences=False))  \n",
        "model.summary()"
      ],
      "execution_count": 0,
      "outputs": [
        {
          "output_type": "stream",
          "text": [
            "_________________________________________________________________\n",
            "Layer (type)                 Output Shape              Param #   \n",
            "=================================================================\n",
            "embedding_3 (Embedding)      (None, None, 32)          320000    \n",
            "_________________________________________________________________\n",
            "simple_rnn_3 (SimpleRNN)     (None, 32)                2080      \n",
            "=================================================================\n",
            "Total params: 322,080\n",
            "Trainable params: 322,080\n",
            "Non-trainable params: 0\n",
            "_________________________________________________________________\n"
          ],
          "name": "stdout"
        }
      ]
    },
    {
      "cell_type": "code",
      "metadata": {
        "id": "bkcP8QXJ1Aqs",
        "colab_type": "code",
        "outputId": "f2acb680-a3a3-40ac-9aed-ae0a9ca9cf02",
        "colab": {
          "base_uri": "https://localhost:8080/",
          "height": 306
        }
      },
      "source": [
        "# Exemplet 6.2 fortsätter med att beskriva hur det går att öka den representatoriska kraften hos närverket.\n",
        "# Detta görs genom att stapla ett antal RNN på varandra där alla lagren utom det sista returnerar hela sekvenser.  \n",
        "# Resultatet är att det sista lagret returnerar bara den sista utdatan precis som ovan där argumentet \"return_sequences=False\".\n",
        "\n",
        "model = Sequential()\n",
        "model.add(Embedding(10000, 32))\n",
        "model.add(SimpleRNN(32, return_sequences=True))\n",
        "model.add(SimpleRNN(32, return_sequences=True))\n",
        "model.add(SimpleRNN(32, return_sequences=True))\n",
        "model.add(SimpleRNN(32))\n",
        "model.summary()"
      ],
      "execution_count": 0,
      "outputs": [
        {
          "output_type": "stream",
          "text": [
            "_________________________________________________________________\n",
            "Layer (type)                 Output Shape              Param #   \n",
            "=================================================================\n",
            "embedding_4 (Embedding)      (None, None, 32)          320000    \n",
            "_________________________________________________________________\n",
            "simple_rnn_4 (SimpleRNN)     (None, None, 32)          2080      \n",
            "_________________________________________________________________\n",
            "simple_rnn_5 (SimpleRNN)     (None, None, 32)          2080      \n",
            "_________________________________________________________________\n",
            "simple_rnn_6 (SimpleRNN)     (None, None, 32)          2080      \n",
            "_________________________________________________________________\n",
            "simple_rnn_7 (SimpleRNN)     (None, 32)                2080      \n",
            "=================================================================\n",
            "Total params: 328,320\n",
            "Trainable params: 328,320\n",
            "Non-trainable params: 0\n",
            "_________________________________________________________________\n"
          ],
          "name": "stdout"
        }
      ]
    },
    {
      "cell_type": "code",
      "metadata": {
        "id": "eei3fbFShJIh",
        "colab_type": "code",
        "outputId": "40b86ec7-ec0c-4d89-f966-bc4c9b44a0b8",
        "colab": {
          "base_uri": "https://localhost:8080/",
          "height": 306
        }
      },
      "source": [
        "# Men vad händer med modellen om vi lägger till argumentet \"return_sequences=True\"? \n",
        "# Resultatet är att utdata från sista lagret blir enligt ovan en 2D Tensor.\n",
        "\n",
        "model = Sequential()\n",
        "model.add(Embedding(10000, 32))\n",
        "model.add(SimpleRNN(32, return_sequences=True))\n",
        "model.add(SimpleRNN(32, return_sequences=True))\n",
        "model.add(SimpleRNN(32, return_sequences=True)) \n",
        "model.add(SimpleRNN(32, return_sequences=True))  \n",
        "model.summary()"
      ],
      "execution_count": 0,
      "outputs": [
        {
          "output_type": "stream",
          "text": [
            "_________________________________________________________________\n",
            "Layer (type)                 Output Shape              Param #   \n",
            "=================================================================\n",
            "embedding_5 (Embedding)      (None, None, 32)          320000    \n",
            "_________________________________________________________________\n",
            "simple_rnn_8 (SimpleRNN)     (None, None, 32)          2080      \n",
            "_________________________________________________________________\n",
            "simple_rnn_9 (SimpleRNN)     (None, None, 32)          2080      \n",
            "_________________________________________________________________\n",
            "simple_rnn_10 (SimpleRNN)    (None, None, 32)          2080      \n",
            "_________________________________________________________________\n",
            "simple_rnn_11 (SimpleRNN)    (None, None, 32)          2080      \n",
            "=================================================================\n",
            "Total params: 328,320\n",
            "Trainable params: 328,320\n",
            "Non-trainable params: 0\n",
            "_________________________________________________________________\n"
          ],
          "name": "stdout"
        }
      ]
    },
    {
      "cell_type": "code",
      "metadata": {
        "id": "lOmMez0M1Aqz",
        "colab_type": "code",
        "outputId": "eba5e41c-68ac-462f-f8ed-6f004e3cdc5d",
        "colab": {
          "base_uri": "https://localhost:8080/",
          "height": 102
        }
      },
      "source": [
        "# Exemplet fortsätter med att applicera en modell enligt ovan på klassificeringen av filmer på IMDB\n",
        "# Ursprunlig kod nedan från boken resulterar i ett felsvar vid körning, \"Object arrays \n",
        "# cannot be loaded when allow_pickle=False' for the load_data() function.\" Problemet åtgärdades genom \n",
        "# att jag nedan sätter \"allow_pickle=True\". NumPy använder pickle modulen för att spara objekt som inte \n",
        "# är standard objekt så om denna parametern är satt till \"True\" så går det även att spara andra dataformat. \n",
        "\n",
        "from keras.datasets import imdb\n",
        "from keras.preprocessing import sequence\n",
        "import numpy as np\n",
        "\n",
        "# \"max_features\" är antalet ord som skall övervägas som egenskaper.\n",
        "\n",
        "max_features = 10000\n",
        "\n",
        "# Först skapade jag modellen med \"maxlen=500\" och sedan ökade jag till \"maxlen=750\". Resultatet presenteras längst upp. \n",
        "\n",
        "maxlen = 750\n",
        "\n",
        "# sparar \"np.load\"\n",
        "\n",
        "np_load_old = np.load\n",
        "\n",
        "# Modifierar default parametrarna hos \"np.load\"\n",
        "\n",
        "np.load = lambda *a,**k: np_load_old(*a, allow_pickle=True, **k)\n",
        "\n",
        "# Anropar load_data vilket möjliggör \"allow_pickle\" att implicit sättas till \"True\"\n",
        "\n",
        "(train_data, train_labels), (test_data, test_labels) = imdb.load_data(num_words=10000)\n",
        "\n",
        "# Återställer \"np.load\" för framtida användning\n",
        "\n",
        "np.load = np_load_old\n",
        "\n",
        "print(len(train_data), 'train sequences')\n",
        "print(len(test_data), 'test sequences')\n",
        "print('Pad sequences (samples x time)')\n",
        "train_data = sequence.pad_sequences(train_data, maxlen=maxlen)\n",
        "test_data = sequence.pad_sequences(test_data, maxlen=maxlen)\n",
        "print('input_train shape:', train_data.shape)\n",
        "('input_test shape:', test_data.shape)"
      ],
      "execution_count": 0,
      "outputs": [
        {
          "output_type": "stream",
          "text": [
            "25000 train sequences\n",
            "25000 test sequences\n",
            "Pad sequences (samples x time)\n",
            "input_train shape: (25000, 750)\n"
          ],
          "name": "stdout"
        },
        {
          "output_type": "execute_result",
          "data": {
            "text/plain": [
              "('input_test shape:', (25000, 750))"
            ]
          },
          "metadata": {
            "tags": []
          },
          "execution_count": 9
        }
      ]
    },
    {
      "cell_type": "code",
      "metadata": {
        "id": "eo5Z1yFr1Aq6",
        "colab_type": "code",
        "outputId": "736a351c-fce0-4981-e83a-9288d1e40074",
        "colab": {
          "base_uri": "https://localhost:8080/",
          "height": 547
        }
      },
      "source": [
        "from keras.layers import Dense\n",
        "\n",
        "model = Sequential()\n",
        "model.add(Embedding(max_features, 32))\n",
        "model.add(SimpleRNN(32))\n",
        "model.add(Dense(1, activation='sigmoid'))\n",
        "\n",
        "model.compile(optimizer='rmsprop', loss='binary_crossentropy', metrics=['acc'])\n",
        "history = model.fit(train_data, train_labels,\n",
        "                    epochs=10,\n",
        "                    batch_size=128,\n",
        "                    validation_split=0.2)"
      ],
      "execution_count": 0,
      "outputs": [
        {
          "output_type": "stream",
          "text": [
            "W0805 20:28:15.558526 140246519814016 deprecation_wrapper.py:119] From /usr/local/lib/python3.6/dist-packages/keras/optimizers.py:790: The name tf.train.Optimizer is deprecated. Please use tf.compat.v1.train.Optimizer instead.\n",
            "\n",
            "W0805 20:28:15.580828 140246519814016 deprecation_wrapper.py:119] From /usr/local/lib/python3.6/dist-packages/keras/backend/tensorflow_backend.py:3376: The name tf.log is deprecated. Please use tf.math.log instead.\n",
            "\n",
            "W0805 20:28:15.588959 140246519814016 deprecation.py:323] From /usr/local/lib/python3.6/dist-packages/tensorflow/python/ops/nn_impl.py:180: add_dispatch_support.<locals>.wrapper (from tensorflow.python.ops.array_ops) is deprecated and will be removed in a future version.\n",
            "Instructions for updating:\n",
            "Use tf.where in 2.0, which has the same broadcast rule as np.where\n",
            "W0805 20:28:15.955290 140246519814016 deprecation_wrapper.py:119] From /usr/local/lib/python3.6/dist-packages/keras/backend/tensorflow_backend.py:986: The name tf.assign_add is deprecated. Please use tf.compat.v1.assign_add instead.\n",
            "\n"
          ],
          "name": "stderr"
        },
        {
          "output_type": "stream",
          "text": [
            "Train on 20000 samples, validate on 5000 samples\n",
            "Epoch 1/10\n",
            "20000/20000 [==============================] - 27s 1ms/step - loss: 0.6512 - acc: 0.5989 - val_loss: 0.5521 - val_acc: 0.7196\n",
            "Epoch 2/10\n",
            "20000/20000 [==============================] - 27s 1ms/step - loss: 0.4535 - acc: 0.7972 - val_loss: 0.6031 - val_acc: 0.7336\n",
            "Epoch 3/10\n",
            "20000/20000 [==============================] - 26s 1ms/step - loss: 0.3216 - acc: 0.8675 - val_loss: 0.4222 - val_acc: 0.8066\n",
            "Epoch 4/10\n",
            "20000/20000 [==============================] - 26s 1ms/step - loss: 0.2241 - acc: 0.9149 - val_loss: 0.3936 - val_acc: 0.8322\n",
            "Epoch 5/10\n",
            "20000/20000 [==============================] - 27s 1ms/step - loss: 0.1553 - acc: 0.9445 - val_loss: 0.3985 - val_acc: 0.8358\n",
            "Epoch 6/10\n",
            "20000/20000 [==============================] - 26s 1ms/step - loss: 0.1166 - acc: 0.9604 - val_loss: 0.4696 - val_acc: 0.8292\n",
            "Epoch 7/10\n",
            "20000/20000 [==============================] - 27s 1ms/step - loss: 0.0744 - acc: 0.9753 - val_loss: 0.6544 - val_acc: 0.7436\n",
            "Epoch 8/10\n",
            "20000/20000 [==============================] - 26s 1ms/step - loss: 0.0443 - acc: 0.9870 - val_loss: 0.5693 - val_acc: 0.8196\n",
            "Epoch 9/10\n",
            "20000/20000 [==============================] - 27s 1ms/step - loss: 0.0279 - acc: 0.9929 - val_loss: 0.8203 - val_acc: 0.7536\n",
            "Epoch 10/10\n",
            "20000/20000 [==============================] - 27s 1ms/step - loss: 0.0145 - acc: 0.9961 - val_loss: 0.6775 - val_acc: 0.8090\n"
          ],
          "name": "stdout"
        }
      ]
    },
    {
      "cell_type": "code",
      "metadata": {
        "id": "2Bah8fAw1ArB",
        "colab_type": "code",
        "outputId": "a1fcaab1-d383-4b91-fae5-7a0d67a498b5",
        "colab": {
          "base_uri": "https://localhost:8080/",
          "height": 545
        }
      },
      "source": [
        "# Visar tränings och validerings \"loss\" och noggrannhet (accuracy)\n",
        "\n",
        "import matplotlib.pyplot as plt\n",
        "\n",
        "acc = history.history['acc']\n",
        "val_acc = history.history['val_acc']\n",
        "loss = history.history['loss']\n",
        "val_loss = history.history['val_loss']\n",
        "\n",
        "epochs = range(len(acc))\n",
        "\n",
        "plt.plot(epochs, acc, 'bo', label='Training acc')\n",
        "plt.plot(epochs, val_acc, 'b', label='Validation acc')\n",
        "plt.title('Training and validation accuracy')\n",
        "plt.legend()\n",
        "\n",
        "plt.figure()\n",
        "\n",
        "plt.plot(epochs, loss, 'bo', label='Training loss')\n",
        "plt.plot(epochs, val_loss, 'b', label='Validation loss')\n",
        "plt.title('Training and validation loss')\n",
        "plt.legend()\n",
        "\n",
        "plt.show()"
      ],
      "execution_count": 0,
      "outputs": [
        {
          "output_type": "display_data",
          "data": {
            "image/png": "[encoded data removed]",
            "text/plain": [
              "<Figure size 432x288 with 1 Axes>"
            ]
          },
          "metadata": {
            "tags": []
          }
        },
        {
          "output_type": "display_data",
          "data": {
            "image/png": "[encoded data removed]",
            "text/plain": [
              "<Figure size 432x288 with 1 Axes>"
            ]
          },
          "metadata": {
            "tags": []
          }
        }
      ]
    },
    {
      "cell_type": "markdown",
      "metadata": {
        "id": "COIWFaG5cOBU",
        "colab_type": "text"
      },
      "source": [
        "![alt text](https://)"
      ]
    }
  ]
}